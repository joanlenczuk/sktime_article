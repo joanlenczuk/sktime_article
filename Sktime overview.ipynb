{
 "cells": [
  {
   "cell_type": "markdown",
   "id": "d7b47a21",
   "metadata": {},
   "source": [
    "# Overview of sktime's functionalities"
   ]
  },
  {
   "cell_type": "code",
   "execution_count": 197,
   "id": "fb6368a7",
   "metadata": {},
   "outputs": [],
   "source": [
    "import numpy as np\n",
    "import pandas as pd\n",
    "import seaborn as sns\n",
    "import matplotlib.pyplot as plt\n",
    "import statsmodels.api as sm\n",
    "\n",
    "from sklearn.linear_model import LinearRegression\n",
    "from sklearn.ensemble import RandomForestRegressor\n",
    "\n",
    "from sktime.forecasting.base import ForecastingHorizon\n",
    "from sktime.forecasting.model_selection import temporal_train_test_split\n",
    "from sktime.forecasting.arima import AutoARIMA, ARIMA\n",
    "from sktime.forecasting.exp_smoothing import ExponentialSmoothing\n",
    "from sktime.forecasting.ets import AutoETS\n",
    "from sktime.forecasting.naive import NaiveForecaster\n",
    "from sktime.forecasting.tbats import TBATS\n",
    "from sktime.forecasting.theta import ThetaForecaster\n",
    "from sktime.forecasting.compose import (\n",
    "    EnsembleForecaster,\n",
    "    MultiplexForecaster,\n",
    "    TransformedTargetForecaster,\n",
    "    make_reduction,\n",
    "    ForecastingPipeline\n",
    ")\n",
    "from sktime.forecasting.model_selection import (\n",
    "    SlidingWindowSplitter,\n",
    "    ExpandingWindowSplitter,\n",
    "    ForecastingGridSearchCV,\n",
    "    ForecastingRandomizedSearchCV)\n",
    "from sktime.forecasting.model_evaluation import evaluate\n",
    "from sktime.transformations.series.detrend import Detrender, Deseasonalizer\n",
    "from sktime.transformations.series.boxcox import BoxCoxTransformer, LogTransformer\n",
    "from sktime.transformations.series.outlier_detection import HampelFilter\n",
    "from sktime.transformations.series.compose import OptionalPassthrough\n",
    "from sktime.performance_metrics.forecasting import (\n",
    "    mean_absolute_scaled_error,\n",
    "    MedianAbsolutePercentageError,\n",
    "    median_absolute_percentage_error,\n",
    "    make_forecasting_scorer,\n",
    "    MeanAbsolutePercentageError)\n",
    "from sktime.utils.plotting import plot_series"
   ]
  },
  {
   "cell_type": "code",
   "execution_count": 3,
   "id": "6be7e172",
   "metadata": {},
   "outputs": [],
   "source": [
    "import warnings\n",
    "warnings.filterwarnings(\"ignore\")"
   ]
  },
  {
   "cell_type": "code",
   "execution_count": 4,
   "id": "f3acc607",
   "metadata": {},
   "outputs": [],
   "source": [
    "sns.set(rc={'figure.figsize':(12,6)})"
   ]
  },
  {
   "cell_type": "markdown",
   "id": "22d3683b",
   "metadata": {},
   "source": [
    "### Importing data"
   ]
  },
  {
   "cell_type": "code",
   "execution_count": 5,
   "id": "59029473",
   "metadata": {},
   "outputs": [],
   "source": [
    "df = sm.datasets.macrodata.load_pandas()['data']"
   ]
  },
  {
   "cell_type": "code",
   "execution_count": 6,
   "id": "31a71346",
   "metadata": {},
   "outputs": [
    {
     "data": {
      "text/html": [
       "<div>\n",
       "<style scoped>\n",
       "    .dataframe tbody tr th:only-of-type {\n",
       "        vertical-align: middle;\n",
       "    }\n",
       "\n",
       "    .dataframe tbody tr th {\n",
       "        vertical-align: top;\n",
       "    }\n",
       "\n",
       "    .dataframe thead th {\n",
       "        text-align: right;\n",
       "    }\n",
       "</style>\n",
       "<table border=\"1\" class=\"dataframe\">\n",
       "  <thead>\n",
       "    <tr style=\"text-align: right;\">\n",
       "      <th></th>\n",
       "      <th>year</th>\n",
       "      <th>quarter</th>\n",
       "      <th>realgdp</th>\n",
       "      <th>realcons</th>\n",
       "      <th>realinv</th>\n",
       "      <th>realgovt</th>\n",
       "      <th>realdpi</th>\n",
       "      <th>cpi</th>\n",
       "      <th>m1</th>\n",
       "      <th>tbilrate</th>\n",
       "      <th>unemp</th>\n",
       "      <th>pop</th>\n",
       "      <th>infl</th>\n",
       "      <th>realint</th>\n",
       "    </tr>\n",
       "  </thead>\n",
       "  <tbody>\n",
       "    <tr>\n",
       "      <th>0</th>\n",
       "      <td>1959.0</td>\n",
       "      <td>1.0</td>\n",
       "      <td>2710.349</td>\n",
       "      <td>1707.4</td>\n",
       "      <td>286.898</td>\n",
       "      <td>470.045</td>\n",
       "      <td>1886.9</td>\n",
       "      <td>28.98</td>\n",
       "      <td>139.7</td>\n",
       "      <td>2.82</td>\n",
       "      <td>5.8</td>\n",
       "      <td>177.146</td>\n",
       "      <td>0.00</td>\n",
       "      <td>0.00</td>\n",
       "    </tr>\n",
       "    <tr>\n",
       "      <th>1</th>\n",
       "      <td>1959.0</td>\n",
       "      <td>2.0</td>\n",
       "      <td>2778.801</td>\n",
       "      <td>1733.7</td>\n",
       "      <td>310.859</td>\n",
       "      <td>481.301</td>\n",
       "      <td>1919.7</td>\n",
       "      <td>29.15</td>\n",
       "      <td>141.7</td>\n",
       "      <td>3.08</td>\n",
       "      <td>5.1</td>\n",
       "      <td>177.830</td>\n",
       "      <td>2.34</td>\n",
       "      <td>0.74</td>\n",
       "    </tr>\n",
       "    <tr>\n",
       "      <th>2</th>\n",
       "      <td>1959.0</td>\n",
       "      <td>3.0</td>\n",
       "      <td>2775.488</td>\n",
       "      <td>1751.8</td>\n",
       "      <td>289.226</td>\n",
       "      <td>491.260</td>\n",
       "      <td>1916.4</td>\n",
       "      <td>29.35</td>\n",
       "      <td>140.5</td>\n",
       "      <td>3.82</td>\n",
       "      <td>5.3</td>\n",
       "      <td>178.657</td>\n",
       "      <td>2.74</td>\n",
       "      <td>1.09</td>\n",
       "    </tr>\n",
       "    <tr>\n",
       "      <th>3</th>\n",
       "      <td>1959.0</td>\n",
       "      <td>4.0</td>\n",
       "      <td>2785.204</td>\n",
       "      <td>1753.7</td>\n",
       "      <td>299.356</td>\n",
       "      <td>484.052</td>\n",
       "      <td>1931.3</td>\n",
       "      <td>29.37</td>\n",
       "      <td>140.0</td>\n",
       "      <td>4.33</td>\n",
       "      <td>5.6</td>\n",
       "      <td>179.386</td>\n",
       "      <td>0.27</td>\n",
       "      <td>4.06</td>\n",
       "    </tr>\n",
       "    <tr>\n",
       "      <th>4</th>\n",
       "      <td>1960.0</td>\n",
       "      <td>1.0</td>\n",
       "      <td>2847.699</td>\n",
       "      <td>1770.5</td>\n",
       "      <td>331.722</td>\n",
       "      <td>462.199</td>\n",
       "      <td>1955.5</td>\n",
       "      <td>29.54</td>\n",
       "      <td>139.6</td>\n",
       "      <td>3.50</td>\n",
       "      <td>5.2</td>\n",
       "      <td>180.007</td>\n",
       "      <td>2.31</td>\n",
       "      <td>1.19</td>\n",
       "    </tr>\n",
       "  </tbody>\n",
       "</table>\n",
       "</div>"
      ],
      "text/plain": [
       "     year  quarter   realgdp  realcons  realinv  realgovt  realdpi    cpi  \\\n",
       "0  1959.0      1.0  2710.349    1707.4  286.898   470.045   1886.9  28.98   \n",
       "1  1959.0      2.0  2778.801    1733.7  310.859   481.301   1919.7  29.15   \n",
       "2  1959.0      3.0  2775.488    1751.8  289.226   491.260   1916.4  29.35   \n",
       "3  1959.0      4.0  2785.204    1753.7  299.356   484.052   1931.3  29.37   \n",
       "4  1960.0      1.0  2847.699    1770.5  331.722   462.199   1955.5  29.54   \n",
       "\n",
       "      m1  tbilrate  unemp      pop  infl  realint  \n",
       "0  139.7      2.82    5.8  177.146  0.00     0.00  \n",
       "1  141.7      3.08    5.1  177.830  2.34     0.74  \n",
       "2  140.5      3.82    5.3  178.657  2.74     1.09  \n",
       "3  140.0      4.33    5.6  179.386  0.27     4.06  \n",
       "4  139.6      3.50    5.2  180.007  2.31     1.19  "
      ]
     },
     "execution_count": 6,
     "metadata": {},
     "output_type": "execute_result"
    }
   ],
   "source": [
    "df.head()"
   ]
  },
  {
   "cell_type": "markdown",
   "id": "cdcd575a",
   "metadata": {},
   "source": [
    "### Data overview\n",
    "\n",
    "Dataset contains USA quarterly macroeconomic data between 1959 and 2009. \n",
    "\n",
    "**Target variable - `realgdp`**"
   ]
  },
  {
   "cell_type": "code",
   "execution_count": 7,
   "id": "85619169",
   "metadata": {},
   "outputs": [],
   "source": [
    "df['q_date'] = df.apply(lambda x: str(int(x['year'])) + \"-\" + 'Q'+ str(int(x['quarter'])), axis=1)\n",
    "df['date'] = pd.PeriodIndex(df['q_date'], freq='Q').to_timestamp()"
   ]
  },
  {
   "cell_type": "code",
   "execution_count": 9,
   "id": "d9529063",
   "metadata": {},
   "outputs": [
    {
     "data": {
      "text/html": [
       "<div>\n",
       "<style scoped>\n",
       "    .dataframe tbody tr th:only-of-type {\n",
       "        vertical-align: middle;\n",
       "    }\n",
       "\n",
       "    .dataframe tbody tr th {\n",
       "        vertical-align: top;\n",
       "    }\n",
       "\n",
       "    .dataframe thead th {\n",
       "        text-align: right;\n",
       "    }\n",
       "</style>\n",
       "<table border=\"1\" class=\"dataframe\">\n",
       "  <thead>\n",
       "    <tr style=\"text-align: right;\">\n",
       "      <th></th>\n",
       "      <th>year</th>\n",
       "      <th>quarter</th>\n",
       "      <th>realgdp</th>\n",
       "      <th>realcons</th>\n",
       "      <th>realinv</th>\n",
       "      <th>realgovt</th>\n",
       "      <th>realdpi</th>\n",
       "      <th>cpi</th>\n",
       "      <th>m1</th>\n",
       "      <th>tbilrate</th>\n",
       "      <th>unemp</th>\n",
       "      <th>pop</th>\n",
       "      <th>infl</th>\n",
       "      <th>realint</th>\n",
       "      <th>q_date</th>\n",
       "      <th>date</th>\n",
       "    </tr>\n",
       "  </thead>\n",
       "  <tbody>\n",
       "    <tr>\n",
       "      <th>0</th>\n",
       "      <td>1959.0</td>\n",
       "      <td>1.0</td>\n",
       "      <td>2710.349</td>\n",
       "      <td>1707.4</td>\n",
       "      <td>286.898</td>\n",
       "      <td>470.045</td>\n",
       "      <td>1886.9</td>\n",
       "      <td>28.98</td>\n",
       "      <td>139.7</td>\n",
       "      <td>2.82</td>\n",
       "      <td>5.8</td>\n",
       "      <td>177.146</td>\n",
       "      <td>0.00</td>\n",
       "      <td>0.00</td>\n",
       "      <td>1959-Q1</td>\n",
       "      <td>1959-01-01</td>\n",
       "    </tr>\n",
       "    <tr>\n",
       "      <th>1</th>\n",
       "      <td>1959.0</td>\n",
       "      <td>2.0</td>\n",
       "      <td>2778.801</td>\n",
       "      <td>1733.7</td>\n",
       "      <td>310.859</td>\n",
       "      <td>481.301</td>\n",
       "      <td>1919.7</td>\n",
       "      <td>29.15</td>\n",
       "      <td>141.7</td>\n",
       "      <td>3.08</td>\n",
       "      <td>5.1</td>\n",
       "      <td>177.830</td>\n",
       "      <td>2.34</td>\n",
       "      <td>0.74</td>\n",
       "      <td>1959-Q2</td>\n",
       "      <td>1959-04-01</td>\n",
       "    </tr>\n",
       "    <tr>\n",
       "      <th>2</th>\n",
       "      <td>1959.0</td>\n",
       "      <td>3.0</td>\n",
       "      <td>2775.488</td>\n",
       "      <td>1751.8</td>\n",
       "      <td>289.226</td>\n",
       "      <td>491.260</td>\n",
       "      <td>1916.4</td>\n",
       "      <td>29.35</td>\n",
       "      <td>140.5</td>\n",
       "      <td>3.82</td>\n",
       "      <td>5.3</td>\n",
       "      <td>178.657</td>\n",
       "      <td>2.74</td>\n",
       "      <td>1.09</td>\n",
       "      <td>1959-Q3</td>\n",
       "      <td>1959-07-01</td>\n",
       "    </tr>\n",
       "    <tr>\n",
       "      <th>3</th>\n",
       "      <td>1959.0</td>\n",
       "      <td>4.0</td>\n",
       "      <td>2785.204</td>\n",
       "      <td>1753.7</td>\n",
       "      <td>299.356</td>\n",
       "      <td>484.052</td>\n",
       "      <td>1931.3</td>\n",
       "      <td>29.37</td>\n",
       "      <td>140.0</td>\n",
       "      <td>4.33</td>\n",
       "      <td>5.6</td>\n",
       "      <td>179.386</td>\n",
       "      <td>0.27</td>\n",
       "      <td>4.06</td>\n",
       "      <td>1959-Q4</td>\n",
       "      <td>1959-10-01</td>\n",
       "    </tr>\n",
       "    <tr>\n",
       "      <th>4</th>\n",
       "      <td>1960.0</td>\n",
       "      <td>1.0</td>\n",
       "      <td>2847.699</td>\n",
       "      <td>1770.5</td>\n",
       "      <td>331.722</td>\n",
       "      <td>462.199</td>\n",
       "      <td>1955.5</td>\n",
       "      <td>29.54</td>\n",
       "      <td>139.6</td>\n",
       "      <td>3.50</td>\n",
       "      <td>5.2</td>\n",
       "      <td>180.007</td>\n",
       "      <td>2.31</td>\n",
       "      <td>1.19</td>\n",
       "      <td>1960-Q1</td>\n",
       "      <td>1960-01-01</td>\n",
       "    </tr>\n",
       "  </tbody>\n",
       "</table>\n",
       "</div>"
      ],
      "text/plain": [
       "     year  quarter   realgdp  realcons  realinv  realgovt  realdpi    cpi  \\\n",
       "0  1959.0      1.0  2710.349    1707.4  286.898   470.045   1886.9  28.98   \n",
       "1  1959.0      2.0  2778.801    1733.7  310.859   481.301   1919.7  29.15   \n",
       "2  1959.0      3.0  2775.488    1751.8  289.226   491.260   1916.4  29.35   \n",
       "3  1959.0      4.0  2785.204    1753.7  299.356   484.052   1931.3  29.37   \n",
       "4  1960.0      1.0  2847.699    1770.5  331.722   462.199   1955.5  29.54   \n",
       "\n",
       "      m1  tbilrate  unemp      pop  infl  realint   q_date       date  \n",
       "0  139.7      2.82    5.8  177.146  0.00     0.00  1959-Q1 1959-01-01  \n",
       "1  141.7      3.08    5.1  177.830  2.34     0.74  1959-Q2 1959-04-01  \n",
       "2  140.5      3.82    5.3  178.657  2.74     1.09  1959-Q3 1959-07-01  \n",
       "3  140.0      4.33    5.6  179.386  0.27     4.06  1959-Q4 1959-10-01  \n",
       "4  139.6      3.50    5.2  180.007  2.31     1.19  1960-Q1 1960-01-01  "
      ]
     },
     "execution_count": 9,
     "metadata": {},
     "output_type": "execute_result"
    }
   ],
   "source": [
    "df.head()"
   ]
  },
  {
   "cell_type": "code",
   "execution_count": 10,
   "id": "b53d0557",
   "metadata": {
    "scrolled": false
   },
   "outputs": [
    {
     "data": {
      "text/plain": [
       "<matplotlib.legend.Legend at 0x7fde49b92700>"
      ]
     },
     "execution_count": 10,
     "metadata": {},
     "output_type": "execute_result"
    },
    {
     "data": {
      "image/png": "[encoded data removed]",
      "text/plain": [
       "<Figure size 864x432 with 1 Axes>"
      ]
     },
     "metadata": {},
     "output_type": "display_data"
    }
   ],
   "source": [
    "for val in df.columns[2:14]:\n",
    "    plt.plot(df.date, df[val], label = val)\n",
    "plt.legend()"
   ]
  },
  {
   "cell_type": "code",
   "execution_count": 12,
   "id": "4aab96c5",
   "metadata": {},
   "outputs": [
    {
     "data": {
      "text/plain": [
       "<matplotlib.legend.Legend at 0x7fde49be8df0>"
      ]
     },
     "execution_count": 12,
     "metadata": {},
     "output_type": "execute_result"
    },
    {
     "data": {
      "image/png": "[encoded data removed]",
      "text/plain": [
       "<Figure size 864x432 with 1 Axes>"
      ]
     },
     "metadata": {},
     "output_type": "display_data"
    }
   ],
   "source": [
    "plt.plot(df.date, df['realgdp'], label = 'realgdp')\n",
    "plt.legend()"
   ]
  },
  {
   "cell_type": "code",
   "execution_count": 13,
   "id": "8b17033d",
   "metadata": {
    "scrolled": true
   },
   "outputs": [
    {
     "data": {
      "text/plain": [
       "PeriodIndex(['1959Q1', '1959Q2', '1959Q3', '1959Q4', '1960Q1', '1960Q2',\n",
       "             '1960Q3', '1960Q4', '1961Q1', '1961Q2',\n",
       "             ...\n",
       "             '2007Q2', '2007Q3', '2007Q4', '2008Q1', '2008Q2', '2008Q3',\n",
       "             '2008Q4', '2009Q1', '2009Q2', '2009Q3'],\n",
       "            dtype='period[Q-DEC]', name='date', length=203)"
      ]
     },
     "execution_count": 13,
     "metadata": {},
     "output_type": "execute_result"
    }
   ],
   "source": [
    "df = df.set_index('date').to_period(\"Q\")\n",
    "df.index"
   ]
  },
  {
   "cell_type": "markdown",
   "id": "746efe42",
   "metadata": {},
   "source": [
    "## 1. Unified API"
   ]
  },
  {
   "cell_type": "markdown",
   "id": "632599a2",
   "metadata": {},
   "source": [
    "### Basic forecasters interface"
   ]
  },
  {
   "cell_type": "code",
   "execution_count": 15,
   "id": "95bbf1c7",
   "metadata": {},
   "outputs": [],
   "source": [
    "y = df['realgdp']\n",
    "y_train, y_test = temporal_train_test_split(y, test_size=30)"
   ]
  },
  {
   "cell_type": "code",
   "execution_count": 16,
   "id": "59a99374",
   "metadata": {},
   "outputs": [],
   "source": [
    "forecaster = NaiveForecaster()\n",
    "forecaster.fit(y_train)\n",
    "y_pred = forecaster.predict(fh=1) #forecasting one step ahead"
   ]
  },
  {
   "cell_type": "code",
   "execution_count": 17,
   "id": "831cf6a8",
   "metadata": {
    "scrolled": false
   },
   "outputs": [
    {
     "data": {
      "text/plain": [
       "2002Q2    11477.868\n",
       "Freq: Q-DEC, dtype: float64"
      ]
     },
     "execution_count": 17,
     "metadata": {},
     "output_type": "execute_result"
    }
   ],
   "source": [
    "y_pred"
   ]
  },
  {
   "cell_type": "markdown",
   "id": "af2c7779",
   "metadata": {},
   "source": [
    "### do wyslania"
   ]
  },
  {
   "cell_type": "markdown",
   "id": "28d6351b",
   "metadata": {},
   "source": [
    "### Forecasting horizons"
   ]
  },
  {
   "cell_type": "code",
   "execution_count": 144,
   "id": "47684b1e",
   "metadata": {
    "scrolled": true
   },
   "outputs": [
    {
     "data": {
      "text/plain": [
       "ForecastingHorizon(['2002Q2', '2002Q3', '2002Q4', '2003Q1', '2003Q2', '2003Q3',\n",
       "             '2003Q4', '2004Q1', '2004Q2', '2004Q3', '2004Q4', '2005Q1',\n",
       "             '2005Q2', '2005Q3', '2005Q4', '2006Q1', '2006Q2', '2006Q3',\n",
       "             '2006Q4', '2007Q1', '2007Q2', '2007Q3', '2007Q4', '2008Q1',\n",
       "             '2008Q2', '2008Q3', '2008Q4', '2009Q1', '2009Q2', '2009Q3'],\n",
       "            dtype='period[Q-DEC]', name='date', is_relative=False)"
      ]
     },
     "execution_count": 144,
     "metadata": {},
     "output_type": "execute_result"
    }
   ],
   "source": [
    "fh_abs = ForecastingHorizon(y_test.index, is_relative=False) #specific data points\n",
    "fh_abs"
   ]
  },
  {
   "cell_type": "markdown",
   "id": "63ed7cf0",
   "metadata": {},
   "source": [
    "**Regular forecasts - 30 steps ahead**"
   ]
  },
  {
   "cell_type": "code",
   "execution_count": 145,
   "id": "69dfa56d",
   "metadata": {
    "scrolled": true
   },
   "outputs": [
    {
     "data": {
      "text/plain": [
       "ForecastingHorizon([ 1,  2,  3,  4,  5,  6,  7,  8,  9, 10, 11, 12, 13, 14, 15, 16, 17,\n",
       "            18, 19, 20, 21, 22, 23, 24, 25, 26, 27, 28, 29, 30],\n",
       "           dtype='int64', is_relative=True)"
      ]
     },
     "execution_count": 145,
     "metadata": {},
     "output_type": "execute_result"
    }
   ],
   "source": [
    "#cutoff is the last point in the training series\n",
    "cutoff = pd.Period(\"2002-01-01\", freq=\"Q\")\n",
    "\n",
    "#forecasting 1, 2, ..., 30 steps ahead of the last point in the training series\n",
    "fh_rel = fh_abs.to_relative(cutoff)\n",
    "fh_rel"
   ]
  },
  {
   "cell_type": "markdown",
   "id": "e8206c7c",
   "metadata": {},
   "source": [
    "**In-sample forecasts**"
   ]
  },
  {
   "cell_type": "code",
   "execution_count": 162,
   "id": "d8ec488c",
   "metadata": {},
   "outputs": [
    {
     "data": {
      "text/plain": [
       "ForecastingHorizon([-29, -28, -27, -26, -25, -24, -23, -22, -21, -20, -19, -18, -17,\n",
       "            -16, -15, -14, -13, -12, -11, -10,  -9,  -8,  -7,  -6,  -5,  -4,\n",
       "             -3,  -2,  -1,   0],\n",
       "           dtype='int64', is_relative=True)"
      ]
     },
     "execution_count": 162,
     "metadata": {},
     "output_type": "execute_result"
    }
   ],
   "source": [
    "#cutoff is 29 quarters after the last point in the training series\n",
    "cutoff_insample = pd.Period(\"2009-09-01\", freq=\"Q\")\n",
    "\n",
    "#forecasting 0, 1, ..., 29 steps before the last point in the training series\n",
    "fh_rel_insample = fh_abs.to_relative(cutoff_insample)\n",
    "fh_rel_insample"
   ]
  },
  {
   "cell_type": "code",
   "execution_count": 167,
   "id": "88a931c7",
   "metadata": {},
   "outputs": [
    {
     "data": {
      "image/png": "[encoded data removed]",
      "text/plain": [
       "<Figure size 1152x288 with 1 Axes>"
      ]
     },
     "metadata": {},
     "output_type": "display_data"
    }
   ],
   "source": [
    "forecaster = AutoARIMA(sp=4)\n",
    "forecaster.fit(y_train)\n",
    "y_pred = forecaster.predict(fh=fh_rel_insample)\n",
    "\n",
    "plot_series(y_train, y_test, y_pred, labels=[\"y_train\", \"y_test\", \"y_pred\"]);"
   ]
  },
  {
   "cell_type": "markdown",
   "id": "7b7017ad",
   "metadata": {},
   "source": [
    "**Forward forecasts**"
   ]
  },
  {
   "cell_type": "code",
   "execution_count": 164,
   "id": "5032d756",
   "metadata": {
    "scrolled": false
   },
   "outputs": [
    {
     "data": {
      "text/plain": [
       "ForecastingHorizon([13, 14, 15, 16, 17, 18, 19, 20, 21, 22, 23, 24, 25, 26, 27, 28, 29,\n",
       "            30, 31, 32, 33, 34, 35, 36, 37, 38, 39, 40, 41, 42],\n",
       "           dtype='int64', is_relative=True)"
      ]
     },
     "execution_count": 164,
     "metadata": {},
     "output_type": "execute_result"
    }
   ],
   "source": [
    "#cutoff is 12 quarters before the last point in the training series\n",
    "cutoff_forward = pd.Period(\"1999-01-01\", freq=\"Q\")\n",
    "\n",
    "#forecasting 13, 14, ..., 42 steps after the last point in the training series\n",
    "fh_rel_forward = fh_abs.to_relative(cutoff_forward)\n",
    "fh_rel_forward"
   ]
  },
  {
   "cell_type": "code",
   "execution_count": 166,
   "id": "52687aa9",
   "metadata": {},
   "outputs": [
    {
     "data": {
      "image/png": "[encoded data removed]",
      "text/plain": [
       "<Figure size 1152x288 with 1 Axes>"
      ]
     },
     "metadata": {},
     "output_type": "display_data"
    }
   ],
   "source": [
    "forecaster = AutoARIMA(sp=4)\n",
    "forecaster.fit(y_train)\n",
    "y_pred = forecaster.predict(fh=fh_rel_forward)\n",
    "\n",
    "plot_series(y_train, y_test, y_pred, labels=[\"y_train\", \"y_test\", \"y_pred\"]);"
   ]
  },
  {
   "cell_type": "markdown",
   "id": "1b5f0813",
   "metadata": {},
   "source": [
    "### Univariate time series"
   ]
  },
  {
   "cell_type": "code",
   "execution_count": 149,
   "id": "f52e9196",
   "metadata": {},
   "outputs": [
    {
     "name": "stdout",
     "output_type": "stream",
     "text": [
      "MASE: 3.283\n"
     ]
    },
    {
     "data": {
      "image/png": "[encoded data removed]",
      "text/plain": [
       "<Figure size 1152x288 with 1 Axes>"
      ]
     },
     "metadata": {},
     "output_type": "display_data"
    }
   ],
   "source": [
    "y = df['realgdp']\n",
    "y_train, y_test = temporal_train_test_split(y, test_size=30)\n",
    "\n",
    "forecaster = AutoARIMA(sp=4)\n",
    "forecaster.fit(y_train)\n",
    "y_pred = forecaster.predict(fh=fh_abs)\n",
    "\n",
    "plot_series(y_train, y_test, y_pred, labels=[\"y_train\", \"y_test\", \"y_pred\"])\n",
    "print(f\"MASE: {round(mean_absolute_scaled_error(y_true=y_test, y_pred=y_pred, y_train=y_train), 3)}\")"
   ]
  },
  {
   "cell_type": "markdown",
   "id": "c6a0a392",
   "metadata": {},
   "source": [
    "### Multivariate time series\n",
    "Forecasting with extra regressors"
   ]
  },
  {
   "cell_type": "code",
   "execution_count": 150,
   "id": "ff5d678a",
   "metadata": {},
   "outputs": [
    {
     "name": "stdout",
     "output_type": "stream",
     "text": [
      "MASE: 2.322\n"
     ]
    },
    {
     "data": {
      "image/png": "[encoded data removed]",
      "text/plain": [
       "<Figure size 1152x288 with 1 Axes>"
      ]
     },
     "metadata": {},
     "output_type": "display_data"
    }
   ],
   "source": [
    "y = df['realgdp']\n",
    "X = df[['realinv']] #could be more features\n",
    "y_train, y_test, X_train, X_test = temporal_train_test_split(y, X, fh=fh_abs)\n",
    "\n",
    "forecaster = AutoARIMA(sp=4)\n",
    "forecaster.fit(y_train, X_train)\n",
    "y_pred = forecaster.predict(X=X_test, fh=fh_abs)\n",
    "\n",
    "plot_series(y_train, y_test, y_pred, labels=[\"y_train\", \"y_test\", \"y_pred\"])\n",
    "print(f\"MASE: {round(mean_absolute_scaled_error(y_true=y_test, y_pred=y_pred, y_train=y_train), 3)}\")"
   ]
  },
  {
   "cell_type": "markdown",
   "id": "006a6c6c",
   "metadata": {},
   "source": [
    "### Updating a forecaster"
   ]
  },
  {
   "cell_type": "code",
   "execution_count": 153,
   "id": "e43675b4",
   "metadata": {},
   "outputs": [],
   "source": [
    "y_old_data = y_train[:-4]\n",
    "forecaster = AutoARIMA(sp=4)\n",
    "forecaster.fit(y_old_data)\n",
    "y_old_pred = forecaster.predict(fh_rel)"
   ]
  },
  {
   "cell_type": "code",
   "execution_count": 154,
   "id": "2443261e",
   "metadata": {},
   "outputs": [],
   "source": [
    "#updating the model with new data (full year) and generating predictions for the next period\n",
    "y_new_data = y_train[-4:]\n",
    "forecaster.update(y_new_data)\n",
    "y_new_pred = forecaster.predict(fh_rel)"
   ]
  },
  {
   "cell_type": "code",
   "execution_count": 156,
   "id": "93f0812b",
   "metadata": {},
   "outputs": [
    {
     "data": {
      "image/png": "[encoded data removed]",
      "text/plain": [
       "<Figure size 1152x288 with 1 Axes>"
      ]
     },
     "metadata": {},
     "output_type": "display_data"
    }
   ],
   "source": [
    "plot_series(y_train,  y_old_pred, y_new_pred, \n",
    "            labels=[\"y_train\",  \"y_old_pred\", 'y_new_pred']);"
   ]
  },
  {
   "cell_type": "markdown",
   "id": "3a0d9d7d",
   "metadata": {},
   "source": [
    "## 2. Reducing a forecasting task to a regression problem"
   ]
  },
  {
   "cell_type": "code",
   "execution_count": 157,
   "id": "d0c35fb5",
   "metadata": {
    "scrolled": false
   },
   "outputs": [
    {
     "name": "stdout",
     "output_type": "stream",
     "text": [
      "MASE: 4.104\n"
     ]
    },
    {
     "data": {
      "image/png": "[encoded data removed]",
      "text/plain": [
       "<Figure size 1152x288 with 1 Axes>"
      ]
     },
     "metadata": {},
     "output_type": "display_data"
    }
   ],
   "source": [
    "regressor = LinearRegression()\n",
    "forecaster = make_reduction(estimator=regressor, strategy='recursive', window_length=4)\n",
    "forecaster.fit(y_train)\n",
    "y_pred = forecaster.predict(fh_abs)\n",
    "\n",
    "plot_series(y_train, y_test, y_pred, labels=[\"y_train\", \"y_test\", \"y_pred\"])\n",
    "print(f\"MASE: {round(mean_absolute_scaled_error(y_true=y_test, y_pred=y_pred, y_train=y_train), 3)}\")"
   ]
  },
  {
   "cell_type": "markdown",
   "id": "64ad7c5a",
   "metadata": {},
   "source": [
    "## 3. Evaluation of forecasting models"
   ]
  },
  {
   "cell_type": "markdown",
   "id": "718f8427",
   "metadata": {},
   "source": [
    "### Performance metrics"
   ]
  },
  {
   "cell_type": "code",
   "execution_count": 187,
   "id": "34cb830f",
   "metadata": {},
   "outputs": [
    {
     "data": {
      "image/png": "[encoded data removed]",
      "text/plain": [
       "<Figure size 1152x288 with 1 Axes>"
      ]
     },
     "metadata": {},
     "output_type": "display_data"
    }
   ],
   "source": [
    "forecaster = ThetaForecaster()\n",
    "forecaster.fit(y_train)\n",
    "y_pred = forecaster.predict(fh=fh_abs)\n",
    "plot_series(y_train, y_test, y_pred, labels=[\"y_train\", \"y_test\", \"y_pred\"]);"
   ]
  },
  {
   "cell_type": "code",
   "execution_count": 188,
   "id": "80e7ce1d",
   "metadata": {
    "scrolled": false
   },
   "outputs": [
    {
     "data": {
      "text/plain": [
       "0.061994002943796644"
      ]
     },
     "execution_count": 188,
     "metadata": {},
     "output_type": "execute_result"
    }
   ],
   "source": [
    "#MdAPE function\n",
    "median_absolute_percentage_error(y_test, y_pred)"
   ]
  },
  {
   "cell_type": "code",
   "execution_count": 189,
   "id": "73ab70a0",
   "metadata": {
    "scrolled": true
   },
   "outputs": [
    {
     "data": {
      "text/plain": [
       "0.061994002943796644"
      ]
     },
     "execution_count": 189,
     "metadata": {},
     "output_type": "execute_result"
    }
   ],
   "source": [
    "#MdAPE class\n",
    "mdape = MedianAbsolutePercentageError()\n",
    "mdape(y_true=y_test, y_pred=y_pred)"
   ]
  },
  {
   "cell_type": "code",
   "execution_count": 190,
   "id": "4f6d291c",
   "metadata": {
    "scrolled": true
   },
   "outputs": [
    {
     "data": {
      "text/plain": [
       "False"
      ]
     },
     "execution_count": 190,
     "metadata": {},
     "output_type": "execute_result"
    }
   ],
   "source": [
    "mdape.greater_is_better"
   ]
  },
  {
   "cell_type": "code",
   "execution_count": 191,
   "id": "26bfe046",
   "metadata": {},
   "outputs": [],
   "source": [
    "#custom mape calculated on predictions with a ceiling\n",
    "def custom_mape(y: np.array, y_hat: np.array, multioutput: str):\n",
    "    metrics_dict = {'uniform_average': np.mean(np.abs((y - np.ceil(y_hat)) / y)),\n",
    "                    'raw_values': np.abs((y - np.ceil(y_hat)) / y)}\n",
    "    try:\n",
    "        return metrics_dict[multioutput]\n",
    "    except KeyError:\n",
    "        print(\"multioutput not specified correctly - pick `raw_values` or `uniform_average`\")"
   ]
  },
  {
   "cell_type": "code",
   "execution_count": 192,
   "id": "51724bfe",
   "metadata": {
    "scrolled": true
   },
   "outputs": [
    {
     "data": {
      "text/plain": [
       "0.05751249071487726"
      ]
     },
     "execution_count": 192,
     "metadata": {},
     "output_type": "execute_result"
    }
   ],
   "source": [
    "mape_changed = make_forecasting_scorer(func=custom_mape, multioutput = 'uniform_average')\n",
    "mape_changed(y_test, y_pred)"
   ]
  },
  {
   "cell_type": "code",
   "execution_count": 195,
   "id": "8108bc34",
   "metadata": {
    "scrolled": false
   },
   "outputs": [
    {
     "data": {
      "text/plain": [
       "date\n",
       "2002Q2    0.001020\n",
       "2002Q3    0.003918\n",
       "2002Q4    0.002054\n",
       "2003Q1    0.004020\n",
       "2003Q2    0.009772\n",
       "2003Q3    0.024085\n",
       "2003Q4    0.030792\n",
       "2004Q1    0.035508\n",
       "2004Q2    0.040349\n",
       "2004Q3    0.045396\n",
       "2004Q4    0.051593\n",
       "2005Q1    0.059048\n",
       "2005Q2    0.061135\n",
       "2005Q3    0.066320\n",
       "2005Q4    0.069160\n",
       "2006Q1    0.079355\n",
       "2006Q2    0.080807\n",
       "2006Q3    0.079124\n",
       "2006Q4    0.083968\n",
       "2007Q1    0.084879\n",
       "2007Q2    0.090198\n",
       "2007Q3    0.096397\n",
       "2007Q4    0.099337\n",
       "2008Q1    0.095899\n",
       "2008Q2    0.097297\n",
       "2008Q3    0.089354\n",
       "2008Q4    0.074869\n",
       "2009Q1    0.057438\n",
       "2009Q2    0.053831\n",
       "2009Q3    0.058454\n",
       "Freq: Q-DEC, dtype: float64"
      ]
     },
     "execution_count": 195,
     "metadata": {},
     "output_type": "execute_result"
    }
   ],
   "source": [
    "mape_changed = make_forecasting_scorer(func=custom_mape, multioutput = 'raw_values')\n",
    "mape_changed(y_test, y_pred)"
   ]
  },
  {
   "cell_type": "markdown",
   "id": "3114fb2a",
   "metadata": {},
   "source": [
    "### Time-based cross-validation"
   ]
  },
  {
   "cell_type": "markdown",
   "id": "3ddb20f2",
   "metadata": {},
   "source": [
    "- **Sliding Window**"
   ]
  },
  {
   "cell_type": "code",
   "execution_count": 204,
   "id": "e863dcb3",
   "metadata": {},
   "outputs": [],
   "source": [
    "forecaster = AutoARIMA(sp=4)\n",
    "cv = SlidingWindowSplitter(step_length=30, fh=list(range(1,31)), initial_window=40)\n",
    "df = evaluate(forecaster=forecaster, y=y, cv=cv, strategy=\"update\", return_data=True, scoring = MeanAbsolutePercentageError(symmetric=True))"
   ]
  },
  {
   "cell_type": "code",
   "execution_count": 205,
   "id": "f73aaff2",
   "metadata": {},
   "outputs": [
    {
     "data": {
      "text/html": [
       "<div>\n",
       "<style scoped>\n",
       "    .dataframe tbody tr th:only-of-type {\n",
       "        vertical-align: middle;\n",
       "    }\n",
       "\n",
       "    .dataframe tbody tr th {\n",
       "        vertical-align: top;\n",
       "    }\n",
       "\n",
       "    .dataframe thead th {\n",
       "        text-align: right;\n",
       "    }\n",
       "</style>\n",
       "<table border=\"1\" class=\"dataframe\">\n",
       "  <thead>\n",
       "    <tr style=\"text-align: right;\">\n",
       "      <th></th>\n",
       "      <th>test_MeanAbsolutePercentageError</th>\n",
       "      <th>fit_time</th>\n",
       "      <th>pred_time</th>\n",
       "      <th>len_train_window</th>\n",
       "      <th>cutoff</th>\n",
       "      <th>y_train</th>\n",
       "      <th>y_test</th>\n",
       "      <th>y_pred</th>\n",
       "    </tr>\n",
       "  </thead>\n",
       "  <tbody>\n",
       "    <tr>\n",
       "      <th>0</th>\n",
       "      <td>0.026765</td>\n",
       "      <td>0.891163</td>\n",
       "      <td>0.004965</td>\n",
       "      <td>40</td>\n",
       "      <td>1968Q4</td>\n",
       "      <td>date\n",
       "1959Q1    2710.349\n",
       "1959Q2    2778.801\n",
       "195...</td>\n",
       "      <td>date\n",
       "1969Q1    4244.100\n",
       "1969Q2    4256.460\n",
       "196...</td>\n",
       "      <td>1969Q1    4211.384583\n",
       "1969Q2    4248.007673\n",
       "19...</td>\n",
       "    </tr>\n",
       "    <tr>\n",
       "      <th>1</th>\n",
       "      <td>0.031793</td>\n",
       "      <td>0.691185</td>\n",
       "      <td>0.005115</td>\n",
       "      <td>10</td>\n",
       "      <td>1976Q2</td>\n",
       "      <td>date\n",
       "1974Q1    4909.617\n",
       "1974Q2    4922.188\n",
       "197...</td>\n",
       "      <td>date\n",
       "1976Q3    5154.072\n",
       "1976Q4    5191.499\n",
       "197...</td>\n",
       "      <td>1976Q3    5178.306143\n",
       "1976Q4    5227.665286\n",
       "19...</td>\n",
       "    </tr>\n",
       "    <tr>\n",
       "      <th>2</th>\n",
       "      <td>0.017501</td>\n",
       "      <td>0.668573</td>\n",
       "      <td>0.004855</td>\n",
       "      <td>10</td>\n",
       "      <td>1983Q4</td>\n",
       "      <td>date\n",
       "1981Q3    6030.184\n",
       "1981Q4    5955.062\n",
       "198...</td>\n",
       "      <td>date\n",
       "1984Q1    6448.264\n",
       "1984Q2    6559.594\n",
       "198...</td>\n",
       "      <td>1984Q1    6386.849\n",
       "1984Q2    6448.124\n",
       "1984Q3  ...</td>\n",
       "    </tr>\n",
       "    <tr>\n",
       "      <th>3</th>\n",
       "      <td>0.011277</td>\n",
       "      <td>0.642154</td>\n",
       "      <td>0.005112</td>\n",
       "      <td>10</td>\n",
       "      <td>1991Q2</td>\n",
       "      <td>date\n",
       "1989Q1    7806.603\n",
       "1989Q2    7865.016\n",
       "198...</td>\n",
       "      <td>date\n",
       "1991Q3     8037.538\n",
       "1991Q4     8069.046\n",
       "1...</td>\n",
       "      <td>1991Q3     8080.539\n",
       "1991Q4     8157.256\n",
       "1992Q1...</td>\n",
       "    </tr>\n",
       "    <tr>\n",
       "      <th>4</th>\n",
       "      <td>0.050590</td>\n",
       "      <td>5.490693</td>\n",
       "      <td>0.004287</td>\n",
       "      <td>10</td>\n",
       "      <td>1998Q4</td>\n",
       "      <td>date\n",
       "1996Q3     9488.879\n",
       "1996Q4     9592.458\n",
       "1...</td>\n",
       "      <td>date\n",
       "1999Q1    10601.179\n",
       "1999Q2    10684.049\n",
       "1...</td>\n",
       "      <td>1999Q1    10749.932211\n",
       "1999Q2    10780.149868\n",
       "...</td>\n",
       "    </tr>\n",
       "  </tbody>\n",
       "</table>\n",
       "</div>"
      ],
      "text/plain": [
       "   test_MeanAbsolutePercentageError  fit_time  pred_time  len_train_window  \\\n",
       "0                          0.026765  0.891163   0.004965                40   \n",
       "1                          0.031793  0.691185   0.005115                10   \n",
       "2                          0.017501  0.668573   0.004855                10   \n",
       "3                          0.011277  0.642154   0.005112                10   \n",
       "4                          0.050590  5.490693   0.004287                10   \n",
       "\n",
       "   cutoff                                            y_train  \\\n",
       "0  1968Q4  date\n",
       "1959Q1    2710.349\n",
       "1959Q2    2778.801\n",
       "195...   \n",
       "1  1976Q2  date\n",
       "1974Q1    4909.617\n",
       "1974Q2    4922.188\n",
       "197...   \n",
       "2  1983Q4  date\n",
       "1981Q3    6030.184\n",
       "1981Q4    5955.062\n",
       "198...   \n",
       "3  1991Q2  date\n",
       "1989Q1    7806.603\n",
       "1989Q2    7865.016\n",
       "198...   \n",
       "4  1998Q4  date\n",
       "1996Q3     9488.879\n",
       "1996Q4     9592.458\n",
       "1...   \n",
       "\n",
       "                                              y_test  \\\n",
       "0  date\n",
       "1969Q1    4244.100\n",
       "1969Q2    4256.460\n",
       "196...   \n",
       "1  date\n",
       "1976Q3    5154.072\n",
       "1976Q4    5191.499\n",
       "197...   \n",
       "2  date\n",
       "1984Q1    6448.264\n",
       "1984Q2    6559.594\n",
       "198...   \n",
       "3  date\n",
       "1991Q3     8037.538\n",
       "1991Q4     8069.046\n",
       "1...   \n",
       "4  date\n",
       "1999Q1    10601.179\n",
       "1999Q2    10684.049\n",
       "1...   \n",
       "\n",
       "                                              y_pred  \n",
       "0  1969Q1    4211.384583\n",
       "1969Q2    4248.007673\n",
       "19...  \n",
       "1  1976Q3    5178.306143\n",
       "1976Q4    5227.665286\n",
       "19...  \n",
       "2  1984Q1    6386.849\n",
       "1984Q2    6448.124\n",
       "1984Q3  ...  \n",
       "3  1991Q3     8080.539\n",
       "1991Q4     8157.256\n",
       "1992Q1...  \n",
       "4  1999Q1    10749.932211\n",
       "1999Q2    10780.149868\n",
       "...  "
      ]
     },
     "execution_count": 205,
     "metadata": {},
     "output_type": "execute_result"
    }
   ],
   "source": [
    "df"
   ]
  },
  {
   "cell_type": "code",
   "execution_count": 206,
   "id": "f9ad16c5",
   "metadata": {
    "scrolled": true
   },
   "outputs": [
    {
     "name": "stdout",
     "output_type": "stream",
     "text": [
      "Average MAPE with Sliding Window: 0.028\n"
     ]
    },
    {
     "data": {
      "image/png": "[encoded data removed]",
      "text/plain": [
       "<Figure size 1152x288 with 1 Axes>"
      ]
     },
     "metadata": {},
     "output_type": "display_data"
    }
   ],
   "source": [
    "fig, ax = plot_series(\n",
    "    y,\n",
    "    df[\"y_pred\"].iloc[0],\n",
    "    df[\"y_pred\"].iloc[1],\n",
    "    df[\"y_pred\"].iloc[2],\n",
    "    df[\"y_pred\"].iloc[3],\n",
    "    df[\"y_pred\"].iloc[4],\n",
    "    markers=[\"o\", *[\".\"]*5],\n",
    "    labels=[\"y_true\"] + [f\"Sliding Window: y_pred: {x}\" for x in range(5)],\n",
    ")\n",
    "ax.legend()\n",
    "print(f\"Average MAPE with Sliding Window: {round(df['test_MeanAbsolutePercentageError'].mean(), 3)}\")\n",
    "plt.title('Cross-validation with Sliding Window');"
   ]
  },
  {
   "cell_type": "markdown",
   "id": "737065d4",
   "metadata": {},
   "source": [
    "- **Expanding Window**"
   ]
  },
  {
   "cell_type": "code",
   "execution_count": 207,
   "id": "dc736616",
   "metadata": {},
   "outputs": [],
   "source": [
    "forecaster = AutoARIMA(sp=4)\n",
    "cv = ExpandingWindowSplitter(step_length=30, fh=list(range(1,31)), initial_window=40)\n",
    "df = evaluate(forecaster=forecaster, y=y, cv=cv, strategy=\"update\", return_data=True, scoring = MeanAbsolutePercentageError(symmetric=True))"
   ]
  },
  {
   "cell_type": "code",
   "execution_count": 208,
   "id": "ba06ba67",
   "metadata": {},
   "outputs": [
    {
     "data": {
      "text/html": [
       "<div>\n",
       "<style scoped>\n",
       "    .dataframe tbody tr th:only-of-type {\n",
       "        vertical-align: middle;\n",
       "    }\n",
       "\n",
       "    .dataframe tbody tr th {\n",
       "        vertical-align: top;\n",
       "    }\n",
       "\n",
       "    .dataframe thead th {\n",
       "        text-align: right;\n",
       "    }\n",
       "</style>\n",
       "<table border=\"1\" class=\"dataframe\">\n",
       "  <thead>\n",
       "    <tr style=\"text-align: right;\">\n",
       "      <th></th>\n",
       "      <th>test_MeanAbsolutePercentageError</th>\n",
       "      <th>fit_time</th>\n",
       "      <th>pred_time</th>\n",
       "      <th>len_train_window</th>\n",
       "      <th>cutoff</th>\n",
       "      <th>y_train</th>\n",
       "      <th>y_test</th>\n",
       "      <th>y_pred</th>\n",
       "    </tr>\n",
       "  </thead>\n",
       "  <tbody>\n",
       "    <tr>\n",
       "      <th>0</th>\n",
       "      <td>0.026765</td>\n",
       "      <td>1.012176</td>\n",
       "      <td>0.005350</td>\n",
       "      <td>40</td>\n",
       "      <td>1968Q4</td>\n",
       "      <td>date\n",
       "1959Q1    2710.349\n",
       "1959Q2    2778.801\n",
       "195...</td>\n",
       "      <td>date\n",
       "1969Q1    4244.100\n",
       "1969Q2    4256.460\n",
       "196...</td>\n",
       "      <td>1969Q1    4211.384583\n",
       "1969Q2    4248.007673\n",
       "19...</td>\n",
       "    </tr>\n",
       "    <tr>\n",
       "      <th>1</th>\n",
       "      <td>0.022689</td>\n",
       "      <td>1.375461</td>\n",
       "      <td>0.005369</td>\n",
       "      <td>70</td>\n",
       "      <td>1976Q2</td>\n",
       "      <td>date\n",
       "1959Q1    2710.349\n",
       "1959Q2    2778.801\n",
       "195...</td>\n",
       "      <td>date\n",
       "1976Q3    5154.072\n",
       "1976Q4    5191.499\n",
       "197...</td>\n",
       "      <td>1976Q3    5183.195991\n",
       "1976Q4    5222.693347\n",
       "19...</td>\n",
       "    </tr>\n",
       "    <tr>\n",
       "      <th>2</th>\n",
       "      <td>0.061730</td>\n",
       "      <td>1.058484</td>\n",
       "      <td>0.005502</td>\n",
       "      <td>100</td>\n",
       "      <td>1983Q4</td>\n",
       "      <td>date\n",
       "1959Q1    2710.349\n",
       "1959Q2    2778.801\n",
       "195...</td>\n",
       "      <td>date\n",
       "1984Q1    6448.264\n",
       "1984Q2    6559.594\n",
       "198...</td>\n",
       "      <td>1984Q1    6385.598862\n",
       "1984Q2    6428.366855\n",
       "19...</td>\n",
       "    </tr>\n",
       "    <tr>\n",
       "      <th>3</th>\n",
       "      <td>0.051239</td>\n",
       "      <td>1.068310</td>\n",
       "      <td>0.007808</td>\n",
       "      <td>130</td>\n",
       "      <td>1991Q2</td>\n",
       "      <td>date\n",
       "1959Q1    2710.349\n",
       "1959Q2    2778.801\n",
       "195...</td>\n",
       "      <td>date\n",
       "1991Q3     8037.538\n",
       "1991Q4     8069.046\n",
       "1...</td>\n",
       "      <td>1991Q3    8048.706257\n",
       "1991Q4    8090.890623\n",
       "19...</td>\n",
       "    </tr>\n",
       "    <tr>\n",
       "      <th>4</th>\n",
       "      <td>0.009264</td>\n",
       "      <td>2.928487</td>\n",
       "      <td>0.003981</td>\n",
       "      <td>160</td>\n",
       "      <td>1998Q4</td>\n",
       "      <td>date\n",
       "1959Q1     2710.349\n",
       "1959Q2     2778.801\n",
       "1...</td>\n",
       "      <td>date\n",
       "1999Q1    10601.179\n",
       "1999Q2    10684.049\n",
       "1...</td>\n",
       "      <td>1999Q1    10623.174768\n",
       "1999Q2    10727.402351\n",
       "...</td>\n",
       "    </tr>\n",
       "  </tbody>\n",
       "</table>\n",
       "</div>"
      ],
      "text/plain": [
       "   test_MeanAbsolutePercentageError  fit_time  pred_time  len_train_window  \\\n",
       "0                          0.026765  1.012176   0.005350                40   \n",
       "1                          0.022689  1.375461   0.005369                70   \n",
       "2                          0.061730  1.058484   0.005502               100   \n",
       "3                          0.051239  1.068310   0.007808               130   \n",
       "4                          0.009264  2.928487   0.003981               160   \n",
       "\n",
       "   cutoff                                            y_train  \\\n",
       "0  1968Q4  date\n",
       "1959Q1    2710.349\n",
       "1959Q2    2778.801\n",
       "195...   \n",
       "1  1976Q2  date\n",
       "1959Q1    2710.349\n",
       "1959Q2    2778.801\n",
       "195...   \n",
       "2  1983Q4  date\n",
       "1959Q1    2710.349\n",
       "1959Q2    2778.801\n",
       "195...   \n",
       "3  1991Q2  date\n",
       "1959Q1    2710.349\n",
       "1959Q2    2778.801\n",
       "195...   \n",
       "4  1998Q4  date\n",
       "1959Q1     2710.349\n",
       "1959Q2     2778.801\n",
       "1...   \n",
       "\n",
       "                                              y_test  \\\n",
       "0  date\n",
       "1969Q1    4244.100\n",
       "1969Q2    4256.460\n",
       "196...   \n",
       "1  date\n",
       "1976Q3    5154.072\n",
       "1976Q4    5191.499\n",
       "197...   \n",
       "2  date\n",
       "1984Q1    6448.264\n",
       "1984Q2    6559.594\n",
       "198...   \n",
       "3  date\n",
       "1991Q3     8037.538\n",
       "1991Q4     8069.046\n",
       "1...   \n",
       "4  date\n",
       "1999Q1    10601.179\n",
       "1999Q2    10684.049\n",
       "1...   \n",
       "\n",
       "                                              y_pred  \n",
       "0  1969Q1    4211.384583\n",
       "1969Q2    4248.007673\n",
       "19...  \n",
       "1  1976Q3    5183.195991\n",
       "1976Q4    5222.693347\n",
       "19...  \n",
       "2  1984Q1    6385.598862\n",
       "1984Q2    6428.366855\n",
       "19...  \n",
       "3  1991Q3    8048.706257\n",
       "1991Q4    8090.890623\n",
       "19...  \n",
       "4  1999Q1    10623.174768\n",
       "1999Q2    10727.402351\n",
       "...  "
      ]
     },
     "execution_count": 208,
     "metadata": {},
     "output_type": "execute_result"
    }
   ],
   "source": [
    "df"
   ]
  },
  {
   "cell_type": "code",
   "execution_count": 209,
   "id": "1cfd8737",
   "metadata": {},
   "outputs": [
    {
     "name": "stdout",
     "output_type": "stream",
     "text": [
      "Average MAPE with Expanding Window: 0.034\n"
     ]
    },
    {
     "data": {
      "image/png": "[encoded data removed]",
      "text/plain": [
       "<Figure size 1152x288 with 1 Axes>"
      ]
     },
     "metadata": {},
     "output_type": "display_data"
    }
   ],
   "source": [
    "fig, ax = plot_series(\n",
    "    y,\n",
    "    df[\"y_pred\"].iloc[0],\n",
    "    df[\"y_pred\"].iloc[1],\n",
    "    df[\"y_pred\"].iloc[2],\n",
    "    df[\"y_pred\"].iloc[3],\n",
    "    df[\"y_pred\"].iloc[4],\n",
    "    markers=[\"o\", *[\".\"]*5],\n",
    "    labels=[\"y_true\"] + [f\"Expanding Window: y_pred: {x}\" for x in range(5)]\n",
    ")\n",
    "print(f\"Average MAPE with Expanding Window: {round(df['test_MeanAbsolutePercentageError'].mean(), 3)}\")\n",
    "plt.title('Cross-validation with Expanding Window');"
   ]
  },
  {
   "cell_type": "markdown",
   "id": "126aa812",
   "metadata": {},
   "source": [
    "### Tuning"
   ]
  },
  {
   "cell_type": "code",
   "execution_count": null,
   "id": "c43ebe4d",
   "metadata": {},
   "outputs": [],
   "source": [
    "from sktime.forecasting.model_selection import ForecastingGridSearchCV, ForecastingRandomizedSearchCV"
   ]
  },
  {
   "cell_type": "markdown",
   "id": "78da0181",
   "metadata": {},
   "source": [
    "- **Grid Search with statistical model**"
   ]
  },
  {
   "cell_type": "code",
   "execution_count": null,
   "id": "9165746c",
   "metadata": {},
   "outputs": [],
   "source": [
    "forecaster = ARIMA()\n",
    "param_grid = {\"order\": [(1, 0, 0), (1, 0, 1), (0, 0, 1)], 'with_intercept': [True, False]}"
   ]
  },
  {
   "cell_type": "code",
   "execution_count": null,
   "id": "dc753968",
   "metadata": {},
   "outputs": [],
   "source": [
    "cv = SlidingWindowSplitter(initial_window=int(len(y_train) * 0.8), window_length=20)\n",
    "gscv = ForecastingGridSearchCV(forecaster, strategy=\"refit\", cv=cv, param_grid=param_grid)"
   ]
  },
  {
   "cell_type": "code",
   "execution_count": null,
   "id": "123a1fea",
   "metadata": {},
   "outputs": [],
   "source": [
    "gscv.fit(y_train)"
   ]
  },
  {
   "cell_type": "code",
   "execution_count": null,
   "id": "ac41332e",
   "metadata": {},
   "outputs": [],
   "source": [
    "y_pred = gscv.predict(fh_abs)"
   ]
  },
  {
   "cell_type": "code",
   "execution_count": null,
   "id": "0f5023e0",
   "metadata": {},
   "outputs": [],
   "source": [
    "gscv.best_params_"
   ]
  },
  {
   "cell_type": "code",
   "execution_count": null,
   "id": "9108e55a",
   "metadata": {},
   "outputs": [],
   "source": [
    "gscv.best_score_"
   ]
  },
  {
   "cell_type": "code",
   "execution_count": null,
   "id": "dea23dd5",
   "metadata": {},
   "outputs": [],
   "source": [
    "plot_series(y_train, y_test, y_pred, labels=[\"y_train\", \"y_test\", \"y_pred\"]);"
   ]
  },
  {
   "cell_type": "code",
   "execution_count": null,
   "id": "cd3b9327",
   "metadata": {},
   "outputs": [],
   "source": [
    "gscv.get_params()"
   ]
  },
  {
   "cell_type": "markdown",
   "id": "85dcd148",
   "metadata": {},
   "source": [
    "- **Randomized Search with scikit-learn model**"
   ]
  },
  {
   "cell_type": "code",
   "execution_count": null,
   "id": "4ed06658",
   "metadata": {},
   "outputs": [],
   "source": [
    "regressor = LinearRegression()\n",
    "forecaster = make_reduction(regressor, strategy=\"recursive\")\n",
    "param_distributions = {\"window_length\": list(range(2, 21))}"
   ]
  },
  {
   "cell_type": "code",
   "execution_count": null,
   "id": "87b8df0e",
   "metadata": {},
   "outputs": [],
   "source": [
    "cv = SlidingWindowSplitter(initial_window=int(len(y_train) * 0.8), window_length=20)\n",
    "rscv = ForecastingRandomizedSearchCV(forecaster, strategy=\"refit\", cv=cv, \n",
    "                                     param_distributions=param_distributions, n_iter = 5, random_state=42)"
   ]
  },
  {
   "cell_type": "code",
   "execution_count": null,
   "id": "34cfb79f",
   "metadata": {},
   "outputs": [],
   "source": [
    "rscv.fit(y_train)\n",
    "y_pred = rscv.predict(fh_abs)"
   ]
  },
  {
   "cell_type": "code",
   "execution_count": null,
   "id": "cf7a209d",
   "metadata": {},
   "outputs": [],
   "source": [
    "rscv.best_params_"
   ]
  },
  {
   "cell_type": "code",
   "execution_count": null,
   "id": "32cb3203",
   "metadata": {},
   "outputs": [],
   "source": [
    "rscv.best_score_"
   ]
  },
  {
   "cell_type": "code",
   "execution_count": null,
   "id": "a662382e",
   "metadata": {
    "scrolled": true
   },
   "outputs": [],
   "source": [
    "plot_series(y_train, y_test, y_pred, labels=[\"y_train\", \"y_test\", \"y_pred\"]);"
   ]
  },
  {
   "cell_type": "markdown",
   "id": "de0b8af4",
   "metadata": {},
   "source": [
    "- **Tuning nested parameters**\n",
    "\n",
    "Random Forest Regressor"
   ]
  },
  {
   "cell_type": "code",
   "execution_count": null,
   "id": "cb4d6a38",
   "metadata": {},
   "outputs": [],
   "source": [
    "from sklearn.ensemble import RandomForestRegressor"
   ]
  },
  {
   "cell_type": "code",
   "execution_count": null,
   "id": "fc74f40f",
   "metadata": {},
   "outputs": [],
   "source": [
    "regressor = RandomForestRegressor(n_estimators=20)\n",
    "forecaster = make_reduction(regressor, scitype=\"tabular-regressor\", strategy=\"recursive\")"
   ]
  },
  {
   "cell_type": "code",
   "execution_count": null,
   "id": "266739e0",
   "metadata": {},
   "outputs": [],
   "source": [
    "forecaster.get_params()"
   ]
  },
  {
   "cell_type": "code",
   "execution_count": null,
   "id": "b98459bb",
   "metadata": {},
   "outputs": [],
   "source": [
    "nested_params = {\"window_length\": [2, 4], \n",
    "                 \"estimator__max_depth\": [5, 10], \n",
    "                 \"estimator__min_samples_leaf\": [5, 10]}"
   ]
  },
  {
   "cell_type": "code",
   "execution_count": null,
   "id": "8f5abf2b",
   "metadata": {},
   "outputs": [],
   "source": [
    "cv = SlidingWindowSplitter(initial_window=int(len(y_train) * 0.8), window_length=30)\n",
    "nscv = ForecastingGridSearchCV(forecaster, cv=cv, param_grid=nested_params)"
   ]
  },
  {
   "cell_type": "code",
   "execution_count": null,
   "id": "7f6653a1",
   "metadata": {},
   "outputs": [],
   "source": [
    "nscv.fit(y_train)\n",
    "y_pred = nscv.predict(fh_abs)"
   ]
  },
  {
   "cell_type": "code",
   "execution_count": null,
   "id": "b8822ac3",
   "metadata": {},
   "outputs": [],
   "source": [
    "nscv.best_params_"
   ]
  },
  {
   "cell_type": "code",
   "execution_count": null,
   "id": "9125c788",
   "metadata": {},
   "outputs": [],
   "source": [
    "nscv.best_score_"
   ]
  },
  {
   "cell_type": "code",
   "execution_count": null,
   "id": "1adc9ae3",
   "metadata": {
    "scrolled": false
   },
   "outputs": [],
   "source": [
    "plot_series(y_train, y_test, y_pred, labels=[\"y_train\", \"y_test\", \"y_pred\"]);"
   ]
  },
  {
   "cell_type": "markdown",
   "id": "d145a0d6",
   "metadata": {},
   "source": [
    "## 4. New forecasting functionalities"
   ]
  },
  {
   "cell_type": "markdown",
   "id": "ca9f4d37",
   "metadata": {},
   "source": [
    "### Transformers"
   ]
  },
  {
   "cell_type": "code",
   "execution_count": null,
   "id": "9a512369",
   "metadata": {},
   "outputs": [],
   "source": [
    "from sktime.transformations.series.detrend import Detrender, Deseasonalizer\n",
    "from sktime.transformations.series.boxcox import BoxCoxTransformer"
   ]
  },
  {
   "cell_type": "code",
   "execution_count": null,
   "id": "c6d7f0e2",
   "metadata": {},
   "outputs": [],
   "source": [
    "transformer = Detrender() # linear detrending\n",
    "transformer.fit(y_train)\n",
    "y_train_transformed = transformer.transform(y_train)"
   ]
  },
  {
   "cell_type": "code",
   "execution_count": null,
   "id": "29b339f5",
   "metadata": {},
   "outputs": [],
   "source": [
    "transformer = Deseasonalizer(sp=4) #removing seasonality\n",
    "y_train_transformed = transformer.fit_transform(y_train)"
   ]
  },
  {
   "cell_type": "code",
   "execution_count": null,
   "id": "c1e883b4",
   "metadata": {},
   "outputs": [],
   "source": [
    "y_train_inversed = transformer.inverse_transform(y_train_transformed) #inversing the seasonality removal"
   ]
  },
  {
   "cell_type": "code",
   "execution_count": null,
   "id": "35ccf61b",
   "metadata": {
    "scrolled": true
   },
   "outputs": [],
   "source": [
    "(np.round(y_train.values, 3) == np.round(y_train_inversed.values, 3)).all()"
   ]
  },
  {
   "cell_type": "code",
   "execution_count": null,
   "id": "3e14f992",
   "metadata": {},
   "outputs": [],
   "source": [
    "forecaster = ThetaForecaster(sp=4)\n",
    "transformer = BoxCoxTransformer(sp=4) #Box-Cox power transformation\n",
    "y_train_transformed = transformer.fit_transform(y_train)"
   ]
  },
  {
   "cell_type": "code",
   "execution_count": null,
   "id": "2aca2946",
   "metadata": {},
   "outputs": [],
   "source": [
    "forecaster.fit(y_train_transformed)\n",
    "y_pred = forecaster.predict(fh=fh_abs)\n",
    "y_pred_inversed = transformer.inverse_transform(y_pred)"
   ]
  },
  {
   "cell_type": "code",
   "execution_count": null,
   "id": "a22cbb57",
   "metadata": {},
   "outputs": [],
   "source": [
    "plot_series(y_train, y_test, y_pred, labels=[\"y_train\", \"y_test\", \"y_pred_transformed\"]);"
   ]
  },
  {
   "cell_type": "code",
   "execution_count": null,
   "id": "470037d2",
   "metadata": {},
   "outputs": [],
   "source": [
    "plot_series(y_train, y_test, y_pred_inversed, labels=[\"y_train\", \"y_test\", \"y_pred_inversed_transformation\"]);"
   ]
  },
  {
   "cell_type": "markdown",
   "id": "90d4d899",
   "metadata": {},
   "source": [
    "### Pipelines"
   ]
  },
  {
   "cell_type": "markdown",
   "id": "4affacfa",
   "metadata": {},
   "source": [
    "- **Simple pipeline**"
   ]
  },
  {
   "cell_type": "code",
   "execution_count": null,
   "id": "b22da559",
   "metadata": {},
   "outputs": [],
   "source": [
    "from sktime.forecasting.compose import TransformedTargetForecaster"
   ]
  },
  {
   "cell_type": "code",
   "execution_count": null,
   "id": "02dc7cdd",
   "metadata": {},
   "outputs": [],
   "source": [
    "forecaster = TransformedTargetForecaster(\n",
    "    [(\"deseasonalize\", Deseasonalizer(sp=4)),\n",
    "    (\"box_cox\", BoxCoxTransformer(sp=4)),    \n",
    "    (\"forecast\", ThetaForecaster(sp=4))]\n",
    ")"
   ]
  },
  {
   "cell_type": "code",
   "execution_count": null,
   "id": "db4c544e",
   "metadata": {},
   "outputs": [],
   "source": [
    "forecaster.fit(y_train)\n",
    "y_pred = forecaster.predict(fh_abs)"
   ]
  },
  {
   "cell_type": "code",
   "execution_count": null,
   "id": "244d1c58",
   "metadata": {
    "scrolled": false
   },
   "outputs": [],
   "source": [
    "plot_series(y_train, y_test, y_pred, labels=[\"y_train\", \"y_test\", \"y_pred\"]);"
   ]
  },
  {
   "cell_type": "markdown",
   "id": "ee3b3b82",
   "metadata": {},
   "source": [
    "- **Pipeline with exogenous data**"
   ]
  },
  {
   "cell_type": "code",
   "execution_count": null,
   "id": "c462ff41",
   "metadata": {},
   "outputs": [],
   "source": [
    "from sktime.forecasting.compose import ForecastingPipeline\n",
    "from sktime.transformations.series.boxcox import LogTransformer\n",
    "from sktime.transformations.series.outlier_detection import HampelFilter"
   ]
  },
  {
   "cell_type": "code",
   "execution_count": null,
   "id": "084fc9ad",
   "metadata": {},
   "outputs": [],
   "source": [
    "forecaster = ForecastingPipeline(\n",
    "    [(\"hampel\", HampelFilter()),\n",
    "    (\"log\", LogTransformer()),\n",
    "    (\"forecaster\", ThetaForecaster(sp=4))])"
   ]
  },
  {
   "cell_type": "code",
   "execution_count": null,
   "id": "44be0974",
   "metadata": {},
   "outputs": [],
   "source": [
    "forecaster.fit(y_train, X_train)\n",
    "y_pred = forecaster.predict(fh=fh_abs, X=X_test)"
   ]
  },
  {
   "cell_type": "code",
   "execution_count": null,
   "id": "fc1cd3f2",
   "metadata": {
    "scrolled": true
   },
   "outputs": [],
   "source": [
    "plot_series(y_train, y_test, y_pred, labels=[\"y_train\", \"y_test\", \"y_pred\"]);"
   ]
  },
  {
   "cell_type": "markdown",
   "id": "72ff0f21",
   "metadata": {},
   "source": [
    "### AutoML"
   ]
  },
  {
   "cell_type": "markdown",
   "id": "d4d6422c",
   "metadata": {},
   "source": [
    "- *****MultiplexForecaster***** - **finding the best forecaster** "
   ]
  },
  {
   "cell_type": "code",
   "execution_count": null,
   "id": "e1f5fc8d",
   "metadata": {},
   "outputs": [],
   "source": [
    "from sktime.forecasting.compose import MultiplexForecaster\n",
    "from sktime.forecasting.exp_smoothing import ExponentialSmoothing\n",
    "from sktime.forecasting.ets import AutoETS"
   ]
  },
  {
   "cell_type": "code",
   "execution_count": null,
   "id": "f6e4a51f",
   "metadata": {},
   "outputs": [],
   "source": [
    "forecaster = MultiplexForecaster(\n",
    "    forecasters=[\n",
    "        (\"theta\", ThetaForecaster(sp=4)),\n",
    "        (\"ets\", ExponentialSmoothing(trend=\"add\", sp=4)),\n",
    "        ('aets', AutoETS(sp=4)),\n",
    "        ('autoarima', AutoARIMA(sp=4)),\n",
    "    ],\n",
    ")"
   ]
  },
  {
   "cell_type": "code",
   "execution_count": null,
   "id": "688b8fd9",
   "metadata": {},
   "outputs": [],
   "source": [
    "cv = ExpandingWindowSplitter(initial_window=int(len(y_train) * 0.8))\n",
    "forecaster_param_grid = {\"selected_forecaster\": [\"theta\", \"ets\", 'aets' , \"autoarima\"]}\n",
    "gscv = ForecastingGridSearchCV(forecaster, cv=cv, param_grid=forecaster_param_grid)"
   ]
  },
  {
   "cell_type": "code",
   "execution_count": null,
   "id": "010e1f5c",
   "metadata": {},
   "outputs": [],
   "source": [
    "gscv.fit(y_train)"
   ]
  },
  {
   "cell_type": "code",
   "execution_count": null,
   "id": "c2839de5",
   "metadata": {},
   "outputs": [],
   "source": [
    "gscv.best_params_"
   ]
  },
  {
   "cell_type": "code",
   "execution_count": null,
   "id": "4f1d6928",
   "metadata": {},
   "outputs": [],
   "source": [
    "gscv.best_forecaster_"
   ]
  },
  {
   "cell_type": "markdown",
   "id": "1f853084",
   "metadata": {},
   "source": [
    "- *****OptionalPassthrough***** - **finding best transformations** "
   ]
  },
  {
   "cell_type": "code",
   "execution_count": null,
   "id": "a337bfb0",
   "metadata": {},
   "outputs": [],
   "source": [
    "from sktime.transformations.series.compose import OptionalPassthrough"
   ]
  },
  {
   "cell_type": "code",
   "execution_count": null,
   "id": "c638819e",
   "metadata": {},
   "outputs": [],
   "source": [
    "forecaster = TransformedTargetForecaster([\n",
    "(\"deseasonalizer\", OptionalPassthrough(Deseasonalizer())),\n",
    "(\"forecaster\", ExponentialSmoothing())])"
   ]
  },
  {
   "cell_type": "code",
   "execution_count": null,
   "id": "f3bde1ff",
   "metadata": {},
   "outputs": [],
   "source": [
    "cv = ExpandingWindowSplitter(initial_window=int(len(y_train) * 0.8))"
   ]
  },
  {
   "cell_type": "code",
   "execution_count": null,
   "id": "bc4aae81",
   "metadata": {},
   "outputs": [],
   "source": [
    "forecaster.get_params()"
   ]
  },
  {
   "cell_type": "code",
   "execution_count": null,
   "id": "b99feefe",
   "metadata": {},
   "outputs": [],
   "source": [
    "param_grid = {\n",
    "\"deseasonalizer__passthrough\" : [True, False],\n",
    "'deseasonalizer__transformer__model': ['additive', 'multiplicative'],\n",
    "\"forecaster__trend\": [\"additive\", 'multiplicative']}"
   ]
  },
  {
   "cell_type": "code",
   "execution_count": null,
   "id": "4dbf11c9",
   "metadata": {},
   "outputs": [],
   "source": [
    "gscv = ForecastingGridSearchCV(\n",
    "forecaster=forecaster,\n",
    "param_grid=param_grid,\n",
    "cv=cv)"
   ]
  },
  {
   "cell_type": "code",
   "execution_count": null,
   "id": "bad88162",
   "metadata": {
    "scrolled": true
   },
   "outputs": [],
   "source": [
    "gscv.fit(y_train)"
   ]
  },
  {
   "cell_type": "code",
   "execution_count": null,
   "id": "d2ebe35e",
   "metadata": {},
   "outputs": [],
   "source": [
    "gscv.best_params_"
   ]
  },
  {
   "cell_type": "code",
   "execution_count": null,
   "id": "9b13cb9f",
   "metadata": {},
   "outputs": [],
   "source": [
    "gscv.best_score_"
   ]
  },
  {
   "cell_type": "markdown",
   "id": "7a1eea65",
   "metadata": {},
   "source": [
    "### Ensemble forecasting"
   ]
  },
  {
   "cell_type": "code",
   "execution_count": null,
   "id": "63f005a8",
   "metadata": {},
   "outputs": [],
   "source": [
    "from sktime.forecasting.compose import EnsembleForecaster\n",
    "from sktime.forecasting.tbats import TBATS"
   ]
  },
  {
   "cell_type": "code",
   "execution_count": null,
   "id": "afb59acb",
   "metadata": {},
   "outputs": [],
   "source": [
    "ensemble = EnsembleForecaster(forecasters = [(\"tbats\", TBATS()),\n",
    "    (\"arima\", AutoARIMA())],                         \n",
    "     aggfunc = 'min')"
   ]
  },
  {
   "cell_type": "code",
   "execution_count": null,
   "id": "b0d6b016",
   "metadata": {},
   "outputs": [],
   "source": [
    "ensemble.fit(y_train)"
   ]
  },
  {
   "cell_type": "code",
   "execution_count": null,
   "id": "cecb99be",
   "metadata": {},
   "outputs": [],
   "source": [
    "ensemble.forecasters_"
   ]
  },
  {
   "cell_type": "code",
   "execution_count": null,
   "id": "71c6bc71",
   "metadata": {},
   "outputs": [],
   "source": [
    "y_pred = ensemble.predict(fh_abs)"
   ]
  },
  {
   "cell_type": "code",
   "execution_count": null,
   "id": "85b0566e",
   "metadata": {},
   "outputs": [],
   "source": [
    "plot_series(y_train, y_test, y_pred, labels=[\"y_train\", \"y_test\", \"y_pred\"]);"
   ]
  }
 ],
 "metadata": {
  "kernelspec": {
   "display_name": "Python 3 (ipykernel)",
   "language": "python",
   "name": "python3"
  },
  "language_info": {
   "codemirror_mode": {
    "name": "ipython",
    "version": 3
   },
   "file_extension": ".py",
   "mimetype": "text/x-python",
   "name": "python",
   "nbconvert_exporter": "python",
   "pygments_lexer": "ipython3",
   "version": "3.8.7"
  }
 },
 "nbformat": 4,
 "nbformat_minor": 5
}
